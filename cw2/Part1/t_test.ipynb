{
 "cells": [
  {
   "cell_type": "code",
   "execution_count": 1,
   "metadata": {},
   "outputs": [],
   "source": [
    "from evaluation import Eval\n",
    "import pandas as pd"
   ]
  },
  {
   "cell_type": "code",
   "execution_count": 2,
   "metadata": {},
   "outputs": [],
   "source": [
    "e = Eval(relevant_docs_file = 'systems/qrels.txt')"
   ]
  },
  {
   "cell_type": "code",
   "execution_count": 3,
   "metadata": {},
   "outputs": [
    {
     "name": "stdout",
     "output_type": "stream",
     "text": [
      "Loading system results: systems/S1.results...\n",
      "Loading system results: systems/S2.results...\n",
      "Loading system results: systems/S3.results...\n",
      "Loading system results: systems/S4.results...\n",
      "Loading system results: systems/S5.results...\n",
      "Loading system results: systems/S6.results...\n"
     ]
    }
   ],
   "source": [
    "df_dict = dict()\n",
    "mean_df = pd.DataFrame(columns = ['P@10', 'R@50', 'r-Precision', 'AP', 'nDCG@10', 'nDCG@20'])\n",
    "std_df = pd.DataFrame(columns = ['P@10', 'R@50', 'r-Precision', 'AP', 'nDCG@10', 'nDCG@20'])\n",
    "for i in range(1, 7):\n",
    "    e.current_system_results = e.read_system_results('systems/S' + str(i) + '.results')\n",
    "    df = e.evaluate_all(total_num_of_queries=10, rounding=False)\n",
    "    df_dict[i] = df.iloc[0:10]\n",
    "    mean_df.loc[i] = df.loc['mean']\n",
    "    std_df.loc[i] = df.std()"
   ]
  },
  {
   "cell_type": "code",
   "execution_count": 4,
   "metadata": {},
   "outputs": [],
   "source": [
    "from scipy import stats"
   ]
  },
  {
   "cell_type": "code",
   "execution_count": 5,
   "metadata": {},
   "outputs": [
    {
     "data": {
      "text/html": [
       "<div>\n",
       "<style scoped>\n",
       "    .dataframe tbody tr th:only-of-type {\n",
       "        vertical-align: middle;\n",
       "    }\n",
       "\n",
       "    .dataframe tbody tr th {\n",
       "        vertical-align: top;\n",
       "    }\n",
       "\n",
       "    .dataframe thead th {\n",
       "        text-align: right;\n",
       "    }\n",
       "</style>\n",
       "<table border=\"1\" class=\"dataframe\">\n",
       "  <thead>\n",
       "    <tr style=\"text-align: right;\">\n",
       "      <th></th>\n",
       "      <th>P@10</th>\n",
       "      <th>R@50</th>\n",
       "      <th>r-Precision</th>\n",
       "      <th>AP</th>\n",
       "      <th>nDCG@10</th>\n",
       "      <th>nDCG@20</th>\n",
       "    </tr>\n",
       "  </thead>\n",
       "  <tbody>\n",
       "    <tr>\n",
       "      <th>1</th>\n",
       "      <td>0.39</td>\n",
       "      <td>0.833690</td>\n",
       "      <td>0.401071</td>\n",
       "      <td>0.400210</td>\n",
       "      <td>0.362945</td>\n",
       "      <td>0.485177</td>\n",
       "    </tr>\n",
       "    <tr>\n",
       "      <th>2</th>\n",
       "      <td>0.22</td>\n",
       "      <td>0.867024</td>\n",
       "      <td>0.252500</td>\n",
       "      <td>0.300352</td>\n",
       "      <td>0.199881</td>\n",
       "      <td>0.246248</td>\n",
       "    </tr>\n",
       "    <tr>\n",
       "      <th>3</th>\n",
       "      <td>0.41</td>\n",
       "      <td>0.767024</td>\n",
       "      <td>0.448452</td>\n",
       "      <td>0.451175</td>\n",
       "      <td>0.420348</td>\n",
       "      <td>0.510918</td>\n",
       "    </tr>\n",
       "    <tr>\n",
       "      <th>4</th>\n",
       "      <td>0.08</td>\n",
       "      <td>0.189405</td>\n",
       "      <td>0.049286</td>\n",
       "      <td>0.074565</td>\n",
       "      <td>0.068708</td>\n",
       "      <td>0.075546</td>\n",
       "    </tr>\n",
       "    <tr>\n",
       "      <th>5</th>\n",
       "      <td>0.41</td>\n",
       "      <td>0.767024</td>\n",
       "      <td>0.357619</td>\n",
       "      <td>0.363829</td>\n",
       "      <td>0.332456</td>\n",
       "      <td>0.424287</td>\n",
       "    </tr>\n",
       "    <tr>\n",
       "      <th>6</th>\n",
       "      <td>0.41</td>\n",
       "      <td>0.767024</td>\n",
       "      <td>0.448452</td>\n",
       "      <td>0.444577</td>\n",
       "      <td>0.400031</td>\n",
       "      <td>0.490532</td>\n",
       "    </tr>\n",
       "  </tbody>\n",
       "</table>\n",
       "</div>"
      ],
      "text/plain": [
       "   P@10      R@50  r-Precision        AP   nDCG@10   nDCG@20\n",
       "1  0.39  0.833690     0.401071  0.400210  0.362945  0.485177\n",
       "2  0.22  0.867024     0.252500  0.300352  0.199881  0.246248\n",
       "3  0.41  0.767024     0.448452  0.451175  0.420348  0.510918\n",
       "4  0.08  0.189405     0.049286  0.074565  0.068708  0.075546\n",
       "5  0.41  0.767024     0.357619  0.363829  0.332456  0.424287\n",
       "6  0.41  0.767024     0.448452  0.444577  0.400031  0.490532"
      ]
     },
     "execution_count": 5,
     "metadata": {},
     "output_type": "execute_result"
    }
   ],
   "source": [
    "mean_df"
   ]
  },
  {
   "cell_type": "code",
   "execution_count": 6,
   "metadata": {},
   "outputs": [
    {
     "data": {
      "text/html": [
       "<div>\n",
       "<style scoped>\n",
       "    .dataframe tbody tr th:only-of-type {\n",
       "        vertical-align: middle;\n",
       "    }\n",
       "\n",
       "    .dataframe tbody tr th {\n",
       "        vertical-align: top;\n",
       "    }\n",
       "\n",
       "    .dataframe thead th {\n",
       "        text-align: right;\n",
       "    }\n",
       "</style>\n",
       "<table border=\"1\" class=\"dataframe\">\n",
       "  <thead>\n",
       "    <tr style=\"text-align: right;\">\n",
       "      <th></th>\n",
       "      <th>P@10</th>\n",
       "      <th>R@50</th>\n",
       "      <th>r-Precision</th>\n",
       "      <th>AP</th>\n",
       "      <th>nDCG@10</th>\n",
       "      <th>nDCG@20</th>\n",
       "    </tr>\n",
       "  </thead>\n",
       "  <tbody>\n",
       "    <tr>\n",
       "      <th>1</th>\n",
       "      <td>NaN</td>\n",
       "      <td>NaN</td>\n",
       "      <td>NaN</td>\n",
       "      <td>NaN</td>\n",
       "      <td>NaN</td>\n",
       "      <td>NaN</td>\n",
       "    </tr>\n",
       "    <tr>\n",
       "      <th>2</th>\n",
       "      <td>NaN</td>\n",
       "      <td>0.867024</td>\n",
       "      <td>NaN</td>\n",
       "      <td>NaN</td>\n",
       "      <td>NaN</td>\n",
       "      <td>NaN</td>\n",
       "    </tr>\n",
       "    <tr>\n",
       "      <th>3</th>\n",
       "      <td>0.41</td>\n",
       "      <td>NaN</td>\n",
       "      <td>0.448452</td>\n",
       "      <td>0.451175</td>\n",
       "      <td>0.420348</td>\n",
       "      <td>0.510918</td>\n",
       "    </tr>\n",
       "    <tr>\n",
       "      <th>4</th>\n",
       "      <td>NaN</td>\n",
       "      <td>NaN</td>\n",
       "      <td>NaN</td>\n",
       "      <td>NaN</td>\n",
       "      <td>NaN</td>\n",
       "      <td>NaN</td>\n",
       "    </tr>\n",
       "    <tr>\n",
       "      <th>5</th>\n",
       "      <td>0.41</td>\n",
       "      <td>NaN</td>\n",
       "      <td>NaN</td>\n",
       "      <td>NaN</td>\n",
       "      <td>NaN</td>\n",
       "      <td>NaN</td>\n",
       "    </tr>\n",
       "    <tr>\n",
       "      <th>6</th>\n",
       "      <td>0.41</td>\n",
       "      <td>NaN</td>\n",
       "      <td>0.448452</td>\n",
       "      <td>NaN</td>\n",
       "      <td>NaN</td>\n",
       "      <td>NaN</td>\n",
       "    </tr>\n",
       "  </tbody>\n",
       "</table>\n",
       "</div>"
      ],
      "text/plain": [
       "   P@10      R@50  r-Precision        AP   nDCG@10   nDCG@20\n",
       "1   NaN       NaN          NaN       NaN       NaN       NaN\n",
       "2   NaN  0.867024          NaN       NaN       NaN       NaN\n",
       "3  0.41       NaN     0.448452  0.451175  0.420348  0.510918\n",
       "4   NaN       NaN          NaN       NaN       NaN       NaN\n",
       "5  0.41       NaN          NaN       NaN       NaN       NaN\n",
       "6  0.41       NaN     0.448452       NaN       NaN       NaN"
      ]
     },
     "execution_count": 6,
     "metadata": {},
     "output_type": "execute_result"
    }
   ],
   "source": [
    "mean_df[mean_df == mean_df.max()]"
   ]
  },
  {
   "cell_type": "code",
   "execution_count": 7,
   "metadata": {},
   "outputs": [
    {
     "data": {
      "text/html": [
       "<div>\n",
       "<style scoped>\n",
       "    .dataframe tbody tr th:only-of-type {\n",
       "        vertical-align: middle;\n",
       "    }\n",
       "\n",
       "    .dataframe tbody tr th {\n",
       "        vertical-align: top;\n",
       "    }\n",
       "\n",
       "    .dataframe thead th {\n",
       "        text-align: right;\n",
       "    }\n",
       "</style>\n",
       "<table border=\"1\" class=\"dataframe\">\n",
       "  <thead>\n",
       "    <tr style=\"text-align: right;\">\n",
       "      <th></th>\n",
       "      <th>P@10</th>\n",
       "      <th>R@50</th>\n",
       "      <th>r-Precision</th>\n",
       "      <th>AP</th>\n",
       "      <th>nDCG@10</th>\n",
       "      <th>nDCG@20</th>\n",
       "    </tr>\n",
       "  </thead>\n",
       "  <tbody>\n",
       "    <tr>\n",
       "      <th>1</th>\n",
       "      <td>0.39</td>\n",
       "      <td>0.83369</td>\n",
       "      <td>0.401071</td>\n",
       "      <td>NaN</td>\n",
       "      <td>NaN</td>\n",
       "      <td>NaN</td>\n",
       "    </tr>\n",
       "    <tr>\n",
       "      <th>2</th>\n",
       "      <td>NaN</td>\n",
       "      <td>NaN</td>\n",
       "      <td>NaN</td>\n",
       "      <td>NaN</td>\n",
       "      <td>NaN</td>\n",
       "      <td>NaN</td>\n",
       "    </tr>\n",
       "    <tr>\n",
       "      <th>3</th>\n",
       "      <td>NaN</td>\n",
       "      <td>NaN</td>\n",
       "      <td>NaN</td>\n",
       "      <td>NaN</td>\n",
       "      <td>NaN</td>\n",
       "      <td>NaN</td>\n",
       "    </tr>\n",
       "    <tr>\n",
       "      <th>4</th>\n",
       "      <td>NaN</td>\n",
       "      <td>NaN</td>\n",
       "      <td>NaN</td>\n",
       "      <td>NaN</td>\n",
       "      <td>NaN</td>\n",
       "      <td>NaN</td>\n",
       "    </tr>\n",
       "    <tr>\n",
       "      <th>5</th>\n",
       "      <td>NaN</td>\n",
       "      <td>NaN</td>\n",
       "      <td>NaN</td>\n",
       "      <td>NaN</td>\n",
       "      <td>NaN</td>\n",
       "      <td>NaN</td>\n",
       "    </tr>\n",
       "    <tr>\n",
       "      <th>6</th>\n",
       "      <td>NaN</td>\n",
       "      <td>NaN</td>\n",
       "      <td>NaN</td>\n",
       "      <td>0.444577</td>\n",
       "      <td>0.400031</td>\n",
       "      <td>0.490532</td>\n",
       "    </tr>\n",
       "  </tbody>\n",
       "</table>\n",
       "</div>"
      ],
      "text/plain": [
       "   P@10     R@50  r-Precision        AP   nDCG@10   nDCG@20\n",
       "1  0.39  0.83369     0.401071       NaN       NaN       NaN\n",
       "2   NaN      NaN          NaN       NaN       NaN       NaN\n",
       "3   NaN      NaN          NaN       NaN       NaN       NaN\n",
       "4   NaN      NaN          NaN       NaN       NaN       NaN\n",
       "5   NaN      NaN          NaN       NaN       NaN       NaN\n",
       "6   NaN      NaN          NaN  0.444577  0.400031  0.490532"
      ]
     },
     "execution_count": 7,
     "metadata": {},
     "output_type": "execute_result"
    }
   ],
   "source": [
    "mean_df[mean_df == mean_df[mean_df != mean_df.max()].max()]"
   ]
  },
  {
   "cell_type": "markdown",
   "metadata": {},
   "source": [
    "The systems (best average scores) are [(3,5,6), 2, (3, 6), 3, 3, 3]\n",
    "The systems (best average scores) are [1, 1, 1, 6, 6, 6]"
   ]
  },
  {
   "cell_type": "code",
   "execution_count": 8,
   "metadata": {},
   "outputs": [
    {
     "data": {
      "text/html": [
       "<div>\n",
       "<style scoped>\n",
       "    .dataframe tbody tr th:only-of-type {\n",
       "        vertical-align: middle;\n",
       "    }\n",
       "\n",
       "    .dataframe tbody tr th {\n",
       "        vertical-align: top;\n",
       "    }\n",
       "\n",
       "    .dataframe thead th {\n",
       "        text-align: right;\n",
       "    }\n",
       "</style>\n",
       "<table border=\"1\" class=\"dataframe\">\n",
       "  <thead>\n",
       "    <tr style=\"text-align: right;\">\n",
       "      <th></th>\n",
       "      <th>P@10</th>\n",
       "      <th>R@50</th>\n",
       "      <th>r-Precision</th>\n",
       "      <th>AP</th>\n",
       "      <th>nDCG@10</th>\n",
       "      <th>nDCG@20</th>\n",
       "    </tr>\n",
       "  </thead>\n",
       "  <tbody>\n",
       "    <tr>\n",
       "      <th>1</th>\n",
       "      <td>0.287924</td>\n",
       "      <td>0.183790</td>\n",
       "      <td>0.304559</td>\n",
       "      <td>0.280822</td>\n",
       "      <td>0.223280</td>\n",
       "      <td>0.192714</td>\n",
       "    </tr>\n",
       "    <tr>\n",
       "      <th>2</th>\n",
       "      <td>0.203961</td>\n",
       "      <td>0.180677</td>\n",
       "      <td>0.348848</td>\n",
       "      <td>0.297643</td>\n",
       "      <td>0.264363</td>\n",
       "      <td>0.254662</td>\n",
       "    </tr>\n",
       "    <tr>\n",
       "      <th>3</th>\n",
       "      <td>0.308058</td>\n",
       "      <td>0.309917</td>\n",
       "      <td>0.341108</td>\n",
       "      <td>0.332063</td>\n",
       "      <td>0.299878</td>\n",
       "      <td>0.270038</td>\n",
       "    </tr>\n",
       "    <tr>\n",
       "      <th>4</th>\n",
       "      <td>0.097980</td>\n",
       "      <td>0.099952</td>\n",
       "      <td>0.068925</td>\n",
       "      <td>0.065255</td>\n",
       "      <td>0.086202</td>\n",
       "      <td>0.076781</td>\n",
       "    </tr>\n",
       "    <tr>\n",
       "      <th>5</th>\n",
       "      <td>0.308058</td>\n",
       "      <td>0.309917</td>\n",
       "      <td>0.324867</td>\n",
       "      <td>0.284172</td>\n",
       "      <td>0.254433</td>\n",
       "      <td>0.237173</td>\n",
       "    </tr>\n",
       "    <tr>\n",
       "      <th>6</th>\n",
       "      <td>0.308058</td>\n",
       "      <td>0.309917</td>\n",
       "      <td>0.341108</td>\n",
       "      <td>0.326281</td>\n",
       "      <td>0.271596</td>\n",
       "      <td>0.244598</td>\n",
       "    </tr>\n",
       "  </tbody>\n",
       "</table>\n",
       "</div>"
      ],
      "text/plain": [
       "       P@10      R@50  r-Precision        AP   nDCG@10   nDCG@20\n",
       "1  0.287924  0.183790     0.304559  0.280822  0.223280  0.192714\n",
       "2  0.203961  0.180677     0.348848  0.297643  0.264363  0.254662\n",
       "3  0.308058  0.309917     0.341108  0.332063  0.299878  0.270038\n",
       "4  0.097980  0.099952     0.068925  0.065255  0.086202  0.076781\n",
       "5  0.308058  0.309917     0.324867  0.284172  0.254433  0.237173\n",
       "6  0.308058  0.309917     0.341108  0.326281  0.271596  0.244598"
      ]
     },
     "execution_count": 8,
     "metadata": {},
     "output_type": "execute_result"
    }
   ],
   "source": [
    "std_df"
   ]
  },
  {
   "cell_type": "code",
   "execution_count": 9,
   "metadata": {},
   "outputs": [
    {
     "data": {
      "text/plain": [
       "Ttest_indResult(statistic=0.1422936016353744, pvalue=0.8884287243093304)"
      ]
     },
     "execution_count": 9,
     "metadata": {},
     "output_type": "execute_result"
    }
   ],
   "source": [
    "stats.ttest_ind(df_dict[3]['P@10'], df_dict[1]['P@10'])"
   ]
  },
  {
   "cell_type": "code",
   "execution_count": 10,
   "metadata": {},
   "outputs": [
    {
     "data": {
      "text/plain": [
       "Ttest_indResult(statistic=0.1422936016353744, pvalue=0.8884287243093304)"
      ]
     },
     "execution_count": 10,
     "metadata": {},
     "output_type": "execute_result"
    }
   ],
   "source": [
    "stats.ttest_ind(df_dict[5]['P@10'], df_dict[1]['P@10'])"
   ]
  },
  {
   "cell_type": "code",
   "execution_count": 11,
   "metadata": {},
   "outputs": [
    {
     "data": {
      "text/plain": [
       "Ttest_indResult(statistic=0.1422936016353744, pvalue=0.8884287243093304)"
      ]
     },
     "execution_count": 11,
     "metadata": {},
     "output_type": "execute_result"
    }
   ],
   "source": [
    "stats.ttest_ind(df_dict[6]['P@10'], df_dict[1]['P@10'])"
   ]
  },
  {
   "cell_type": "markdown",
   "metadata": {},
   "source": [
    "--------------"
   ]
  },
  {
   "cell_type": "code",
   "execution_count": 12,
   "metadata": {},
   "outputs": [
    {
     "data": {
      "text/plain": [
       "Ttest_indResult(statistic=0.3880082704800308, pvalue=0.7025603945402291)"
      ]
     },
     "execution_count": 12,
     "metadata": {},
     "output_type": "execute_result"
    }
   ],
   "source": [
    "stats.ttest_ind(df_dict[2]['R@50'], df_dict[1]['R@50'])"
   ]
  },
  {
   "cell_type": "markdown",
   "metadata": {},
   "source": [
    "--------------"
   ]
  },
  {
   "cell_type": "code",
   "execution_count": 13,
   "metadata": {},
   "outputs": [
    {
     "data": {
      "text/plain": [
       "Ttest_indResult(statistic=0.31083959807728023, pvalue=0.7594933627635715)"
      ]
     },
     "execution_count": 13,
     "metadata": {},
     "output_type": "execute_result"
    }
   ],
   "source": [
    "stats.ttest_ind(df_dict[3]['r-Precision'], df_dict[1]['r-Precision'])"
   ]
  },
  {
   "cell_type": "code",
   "execution_count": 14,
   "metadata": {},
   "outputs": [
    {
     "data": {
      "text/plain": [
       "Ttest_indResult(statistic=0.31083959807728023, pvalue=0.7594933627635715)"
      ]
     },
     "execution_count": 14,
     "metadata": {},
     "output_type": "execute_result"
    }
   ],
   "source": [
    "stats.ttest_ind(df_dict[6]['r-Precision'], df_dict[1]['r-Precision'])"
   ]
  },
  {
   "cell_type": "markdown",
   "metadata": {},
   "source": [
    "--------------"
   ]
  },
  {
   "cell_type": "code",
   "execution_count": 15,
   "metadata": {},
   "outputs": [
    {
     "data": {
      "text/plain": [
       "Ttest_indResult(statistic=0.042513564801249584, pvalue=0.9665573458870693)"
      ]
     },
     "execution_count": 15,
     "metadata": {},
     "output_type": "execute_result"
    }
   ],
   "source": [
    "stats.ttest_ind(df_dict[3]['AP'], df_dict[6]['AP'])"
   ]
  },
  {
   "cell_type": "markdown",
   "metadata": {},
   "source": [
    "------"
   ]
  },
  {
   "cell_type": "code",
   "execution_count": 16,
   "metadata": {},
   "outputs": [
    {
     "data": {
      "text/plain": [
       "Ttest_indResult(statistic=0.15065127811699439, pvalue=0.8819262156757446)"
      ]
     },
     "execution_count": 16,
     "metadata": {},
     "output_type": "execute_result"
    }
   ],
   "source": [
    "stats.ttest_ind(df_dict[3]['nDCG@10'], df_dict[6]['nDCG@10'])"
   ]
  },
  {
   "cell_type": "markdown",
   "metadata": {},
   "source": [
    "---------"
   ]
  },
  {
   "cell_type": "code",
   "execution_count": 17,
   "metadata": {},
   "outputs": [
    {
     "data": {
      "text/plain": [
       "Ttest_indResult(statistic=0.16786186996140187, pvalue=0.8685635746981927)"
      ]
     },
     "execution_count": 17,
     "metadata": {},
     "output_type": "execute_result"
    }
   ],
   "source": [
    "stats.ttest_ind(df_dict[3]['nDCG@20'], df_dict[6]['nDCG@20'])"
   ]
  }
 ],
 "metadata": {
  "kernelspec": {
   "display_name": "Python 3",
   "language": "python",
   "name": "python3"
  },
  "language_info": {
   "codemirror_mode": {
    "name": "ipython",
    "version": 3
   },
   "file_extension": ".py",
   "mimetype": "text/x-python",
   "name": "python",
   "nbconvert_exporter": "python",
   "pygments_lexer": "ipython3",
   "version": "3.6.8"
  }
 },
 "nbformat": 4,
 "nbformat_minor": 2
}
