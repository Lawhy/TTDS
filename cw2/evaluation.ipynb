{
 "cells": [
  {
   "cell_type": "code",
   "execution_count": 78,
   "metadata": {},
   "outputs": [],
   "source": [
    "import pandas as pd\n",
    "import numpy as np\n",
    "import re\n",
    "from collections import defaultdict, OrderedDict"
   ]
  },
  {
   "cell_type": "code",
   "execution_count": 152,
   "metadata": {},
   "outputs": [],
   "source": [
    "class Eval:\n",
    "    \n",
    "    def __init__(self, relevant_docs_file):\n",
    "        self.relevant_docs = self.read_relevant_docs(relevant_docs_file)\n",
    "        self.current_system_results = None\n",
    "    \n",
    "    @staticmethod\n",
    "    def parse_relevant_doc(line):\n",
    "        \"\"\"parse each line of qrels.txt into usable information\"\"\"\n",
    "        query_num = re.findall(r'([0-9]+?):', line)\n",
    "        relevant_docs_n_scores = re.findall(r'\\(([0-9]+?),([0-9]+?)\\)', line)\n",
    "        return query_num[0], relevant_docs_n_scores\n",
    "    \n",
    "    @classmethod\n",
    "    def read_relevant_docs(cls, relevant_docs_file):\n",
    "        \"\"\"read relevant documents and the associated relevance scores for all queries\"\"\"\n",
    "        with open(relevant_docs_file, 'r', encoding='utf-8') as f:\n",
    "            lines = f.readlines()\n",
    "        results = dict()\n",
    "        for line in lines:\n",
    "            query_num, relevant_docs_n_scores = cls.parse_relevant_doc(line)\n",
    "            #print(relevant_docs_n_scores)\n",
    "            results[int(query_num)] = [(int(item[0]), int(item[1])) for item in relevant_docs_n_scores]\n",
    "        return results\n",
    "    \n",
    "    @staticmethod\n",
    "    def parse_system_result(line):\n",
    "        \"\"\"parse each line of system results into usable information\"\"\"\n",
    "        pa = r'([0-9]+?) 0 ([0-9]+?) ([0-9]+?) (.+?) 0'\n",
    "        sys_rlt = re.findall(pa, line)\n",
    "        query_num, doc_num, rank, score = sys_rlt[0]\n",
    "        return query_num, doc_num, rank, score\n",
    "    \n",
    "    @classmethod\n",
    "    def read_system_results(cls, sys_rlts_file):\n",
    "        \"\"\"read and parse system results file\"\"\"\n",
    "        with open(sys_rlts_file, 'r', encoding='utf-8') as f:\n",
    "            lines = f.readlines()\n",
    "        results = defaultdict(list)\n",
    "        for line in lines:\n",
    "            query_num, doc_num, rank, score = cls.parse_system_result(line)\n",
    "            results[int(query_num)] += [(int(rank), int(doc_num), float(score))]\n",
    "        print('Loading system results: {}...'.format(sys_rlts_file))\n",
    "        return results\n",
    "    \n",
    "    def p_at_N(self, query_num, N=10):\n",
    "        \"\"\"calculate precision @ N for a query\"\"\"\n",
    "        N_docs = self.current_system_results[query_num][:N]  # the sys results have been sorted\n",
    "        relevant_doc_nums = [item[0] for item in self.relevant_docs[query_num]]\n",
    "        count = 0\n",
    "        for _, doc_num, _ in N_docs:\n",
    "            if doc_num in relevant_doc_nums:\n",
    "                count += 1\n",
    "        return count / N\n",
    "    \n",
    "    def r_at_N(self, query_num, N=50):\n",
    "        \"\"\"calculate recall @ N for a query\"\"\"\n",
    "        N_docs = self.current_system_results[query_num][:N]  # the sys results have been sorted\n",
    "        relevant_doc_nums = [item[0] for item in self.relevant_docs[query_num]]\n",
    "        count = 0\n",
    "        for _, doc_num, _ in N_docs:\n",
    "            if doc_num in relevant_doc_nums:\n",
    "                count += 1\n",
    "        return count / len(relevant_doc_nums)\n",
    "    \n",
    "    def r_precision(self, query_num):\n",
    "        \"\"\"calculate precision  for a query\"\"\"\n",
    "        relevant_doc_nums = [item[0] for item in self.relevant_docs[query_num]]\n",
    "        rank = len(relevant_doc_nums)\n",
    "        R_docs = self.current_system_results[query_num][:rank]\n",
    "        count = 0\n",
    "        for _, doc_num, _ in R_docs:\n",
    "            if doc_num in relevant_doc_nums:\n",
    "                count += 1\n",
    "        return count / rank"
   ]
  },
  {
   "cell_type": "code",
   "execution_count": 153,
   "metadata": {},
   "outputs": [],
   "source": [
    "e = Eval(relevant_docs_file='systems/qrels.txt')"
   ]
  },
  {
   "cell_type": "code",
   "execution_count": 154,
   "metadata": {},
   "outputs": [
    {
     "name": "stdout",
     "output_type": "stream",
     "text": [
      "Loading system results: systems/S1.results...\n"
     ]
    }
   ],
   "source": [
    "e.current_system_results = e.read_system_results('systems/S1.results')"
   ]
  },
  {
   "cell_type": "code",
   "execution_count": 155,
   "metadata": {},
   "outputs": [
    {
     "name": "stdout",
     "output_type": "stream",
     "text": [
      "0.4\n",
      "0.3\n",
      "0.0\n",
      "0.6\n",
      "0.2\n",
      "0.7\n",
      "0.2\n",
      "0.6\n",
      "0.9\n",
      "0.0\n"
     ]
    }
   ],
   "source": [
    "for i in range(10):\n",
    "    print(e.p_at_N(i+1))"
   ]
  },
  {
   "cell_type": "code",
   "execution_count": 156,
   "metadata": {},
   "outputs": [
    {
     "name": "stdout",
     "output_type": "stream",
     "text": [
      "0.6666666666666666\n",
      "1.0\n",
      "1.0\n",
      "0.875\n",
      "0.42857142857142855\n",
      "1.0\n",
      "0.6666666666666666\n",
      "1.0\n",
      "0.9\n",
      "0.8\n"
     ]
    }
   ],
   "source": [
    "for i in range(10):\n",
    "    print(e.r_at_N(i+1))"
   ]
  },
  {
   "cell_type": "code",
   "execution_count": 157,
   "metadata": {},
   "outputs": [
    {
     "name": "stdout",
     "output_type": "stream",
     "text": [
      "0.16666666666666666\n",
      "0.25\n",
      "0.0\n",
      "0.7\n",
      "0.2857142857142857\n",
      "0.75\n",
      "0.3333333333333333\n",
      "0.625\n",
      "0.9\n",
      "0.0\n"
     ]
    }
   ],
   "source": [
    "for i in range(10):\n",
    "    print(e.r_precision(i+1))"
   ]
  },
  {
   "cell_type": "code",
   "execution_count": null,
   "metadata": {},
   "outputs": [],
   "source": []
  }
 ],
 "metadata": {
  "kernelspec": {
   "display_name": "Python 3",
   "language": "python",
   "name": "python3"
  },
  "language_info": {
   "codemirror_mode": {
    "name": "ipython",
    "version": 3
   },
   "file_extension": ".py",
   "mimetype": "text/x-python",
   "name": "python",
   "nbconvert_exporter": "python",
   "pygments_lexer": "ipython3",
   "version": "3.7.3"
  }
 },
 "nbformat": 4,
 "nbformat_minor": 2
}
