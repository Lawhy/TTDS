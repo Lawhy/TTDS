{
 "cells": [
  {
   "cell_type": "code",
   "execution_count": 1,
   "metadata": {},
   "outputs": [],
   "source": [
    "import numpy as np\n",
    "import pandas as pd\n",
    "import re"
   ]
  },
  {
   "cell_type": "code",
   "execution_count": 2,
   "metadata": {},
   "outputs": [],
   "source": [
    "with open('tweets/Tweets.14cat.train', 'r', encoding='utf-8-sig', errors='ignore') as f:\n",
    "    lines = f.readlines()\n",
    "with open('tweets/Tweets.14cat.test', 'r', encoding='utf-8-sig', errors='ignore') as f:\n",
    "    lines_test = f.readlines()"
   ]
  },
  {
   "cell_type": "code",
   "execution_count": 3,
   "metadata": {},
   "outputs": [],
   "source": [
    "def remove_links(text):\n",
    "    return re.sub(r'http\\S+', '', text)"
   ]
  },
  {
   "cell_type": "code",
   "execution_count": 4,
   "metadata": {},
   "outputs": [],
   "source": [
    "def preprocess(line):\n",
    "    tweet_ID, tweet, category = tuple(line.split('\\t'))\n",
    "    tweet_ID = int(tweet_ID)\n",
    "    tweet = remove_links(tweet)\n",
    "    return tweet_ID, tweet, category"
   ]
  },
  {
   "cell_type": "code",
   "execution_count": 5,
   "metadata": {},
   "outputs": [],
   "source": [
    "def tokenize(text):\n",
    "    return re.findall(r'\\w+', text)"
   ]
  },
  {
   "cell_type": "code",
   "execution_count": 6,
   "metadata": {},
   "outputs": [],
   "source": [
    "def build_vocabs_dict(lines):\n",
    "    df = pd.DataFrame(columns=['ID', 'tweet', 'category'])\n",
    "    vocabs = set()\n",
    "    for line in lines:\n",
    "        line = line.replace('\\n', '')\n",
    "        if line:\n",
    "            _, tweet, _ = preprocess(line)\n",
    "            for t in tokenize(tweet):\n",
    "                vocabs.add(t.lower())\n",
    "    print(len(vocabs))\n",
    "    vocabs = sorted(list(vocabs))\n",
    "    dic = dict()\n",
    "    for i in range(len(vocabs)):\n",
    "        dic[vocabs[i]] = i\n",
    "    return dic"
   ]
  },
  {
   "cell_type": "code",
   "execution_count": 7,
   "metadata": {},
   "outputs": [
    {
     "name": "stdout",
     "output_type": "stream",
     "text": [
      "10167\n"
     ]
    },
    {
     "data": {
      "text/plain": [
       "10168"
      ]
     },
     "execution_count": 7,
     "metadata": {},
     "output_type": "execute_result"
    }
   ],
   "source": [
    "feats_dict = build_vocabs_dict(lines)\n",
    "feats_dict['<UNK>'] = len(feats_dict)\n",
    "len(feats_dict)"
   ]
  },
  {
   "cell_type": "code",
   "execution_count": 8,
   "metadata": {},
   "outputs": [
    {
     "data": {
      "text/plain": [
       "{'Autos & Vehicles': '1',\n",
       " 'Comedy': '2',\n",
       " 'Education': '3',\n",
       " 'Entertainment': '4',\n",
       " 'Film & Animation': '5',\n",
       " 'Gaming': '6',\n",
       " 'Howto & Style': '7',\n",
       " 'Music': '8',\n",
       " 'News & Politics': '9',\n",
       " 'Nonprofits & Activism': '10',\n",
       " 'Pets & Animals': '11',\n",
       " 'Science & Technology': '12',\n",
       " 'Sports': '13',\n",
       " 'Travel & Events': '14'}"
      ]
     },
     "execution_count": 8,
     "metadata": {},
     "output_type": "execute_result"
    }
   ],
   "source": [
    "with open('tweets/classIDs.txt', 'r', encoding='utf-8-sig') as f:\n",
    "    raw_IDs = f.readlines()\n",
    "\n",
    "class_IDs = dict()\n",
    "for raw_ID in raw_IDs:\n",
    "    raw_ID = raw_ID.replace('\\n', '')\n",
    "    _class, _id = tuple(raw_ID.split('\\t'))\n",
    "    class_IDs[_class] = _id\n",
    "\n",
    "class_IDs"
   ]
  },
  {
   "cell_type": "code",
   "execution_count": 9,
   "metadata": {},
   "outputs": [
    {
     "data": {
      "text/plain": [
       "'11 2342:1 3114:1 3515:1 3646:1 3908:1 3932:1 5192:1 5595:1 6104:1 6473:1 8115:1 8304:1 8978:1 #45029314109075046'"
      ]
     },
     "execution_count": 9,
     "metadata": {},
     "output_type": "execute_result"
    }
   ],
   "source": [
    "def vectorize(line, vocabs, classes):\n",
    "    tweet_ID, tweet, category = preprocess(line)\n",
    "    tokens = tokenize(tweet)\n",
    "    class_id = classes[category]\n",
    "    feats = []\n",
    "    for tok in tokens:\n",
    "        if vocabs.get(tok.lower()):\n",
    "            feats.append(vocabs[tok.lower()])\n",
    "        else:\n",
    "            feats.append(vocabs['<UNK>'])\n",
    "    result = str(class_id) + ' ' \n",
    "    for feat in list(sorted(set(feats))):\n",
    "        result += str(feat) + ':1 ' \n",
    "    result += '#' + str(tweet_ID)\n",
    "    return result\n",
    "\n",
    "vectorize(lines[0].replace('\\n', ''), feats_dict, class_IDs)"
   ]
  },
  {
   "cell_type": "code",
   "execution_count": 10,
   "metadata": {},
   "outputs": [],
   "source": [
    "def generate_vectorized_data(lines, vocabs, classes, split='train'):\n",
    "    with open('feats.' + split, 'w+') as f:\n",
    "        for line in lines:\n",
    "            line = line.replace('\\n', '')\n",
    "            if line:\n",
    "                f.write(vectorize(line, vocabs, classes) + '\\n')"
   ]
  },
  {
   "cell_type": "code",
   "execution_count": 11,
   "metadata": {},
   "outputs": [],
   "source": [
    "generate_vectorized_data(lines, feats_dict, class_IDs)\n",
    "generate_vectorized_data(lines_test, feats_dict, class_IDs, split='test')"
   ]
  },
  {
   "cell_type": "code",
   "execution_count": null,
   "metadata": {},
   "outputs": [],
   "source": []
  }
 ],
 "metadata": {
  "kernelspec": {
   "display_name": "Python 3",
   "language": "python",
   "name": "python3"
  },
  "language_info": {
   "codemirror_mode": {
    "name": "ipython",
    "version": 3
   },
   "file_extension": ".py",
   "mimetype": "text/x-python",
   "name": "python",
   "nbconvert_exporter": "python",
   "pygments_lexer": "ipython3",
   "version": "3.7.3"
  }
 },
 "nbformat": 4,
 "nbformat_minor": 2
}
