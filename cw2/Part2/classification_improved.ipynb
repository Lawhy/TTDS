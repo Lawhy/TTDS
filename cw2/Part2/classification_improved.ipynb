{
 "cells": [
  {
   "cell_type": "code",
   "execution_count": 1,
   "metadata": {},
   "outputs": [],
   "source": [
    "import numpy as np\n",
    "import pandas as pd\n",
    "import re\n",
    "from collections import Counter\n",
    "from nltk.stem import PorterStemmer\n",
    "import preprocessor as p\n",
    "\n",
    "ps = PorterStemmer()"
   ]
  },
  {
   "cell_type": "code",
   "execution_count": 2,
   "metadata": {},
   "outputs": [],
   "source": [
    "with open('englishST.txt', 'r', encoding='utf-8-sig') as f:\n",
    "    stop = [s.replace('\\n', '') for s in f.readlines()]"
   ]
  },
  {
   "cell_type": "code",
   "execution_count": 3,
   "metadata": {},
   "outputs": [],
   "source": [
    "with open('tweets/Tweets.14cat.train', 'r', encoding='utf-8-sig', errors='ignore') as f:\n",
    "    lines = f.readlines()\n",
    "with open('tweets/Tweets.14cat.test', 'r', encoding='utf-8-sig', errors='ignore') as f:\n",
    "    lines_test = f.readlines()"
   ]
  },
  {
   "cell_type": "code",
   "execution_count": 4,
   "metadata": {},
   "outputs": [
    {
     "data": {
      "text/plain": [
       "'$NUMBER$ Furniture for - so cute! gotta show my $HASHTAG$ mama the last one especially $SMILEY$ $URL$ $URL$ Pets & Animals'"
      ]
     },
     "execution_count": 4,
     "metadata": {},
     "output_type": "execute_result"
    }
   ],
   "source": [
    "p.tokenize(lines[0])"
   ]
  },
  {
   "cell_type": "code",
   "execution_count": 5,
   "metadata": {},
   "outputs": [
    {
     "data": {
      "text/plain": [
       "'CATS ART $URL$ $HASHTAG$ $HASHTAG$ $HASHTAG$ $HASHTAG$ $HASHTAG$ $HASHTAG$ $HASHTAG$ $HASHTAG$ $HASHTAG$ $HASHTAG$ $HASHTAG$'"
      ]
     },
     "execution_count": 5,
     "metadata": {},
     "output_type": "execute_result"
    }
   ],
   "source": [
    "p.tokenize(lines[2].split('\\t')[1])"
   ]
  },
  {
   "cell_type": "code",
   "execution_count": 6,
   "metadata": {},
   "outputs": [],
   "source": [
    "def remove_links(text):\n",
    "    return re.sub(r'http\\S+', '', text)"
   ]
  },
  {
   "cell_type": "code",
   "execution_count": 7,
   "metadata": {},
   "outputs": [],
   "source": [
    "def preprocess(line):\n",
    "    tweet_ID, tweet, category = tuple(line.split('\\t'))\n",
    "    tweet_ID = int(tweet_ID)\n",
    "    tweet = remove_links(tweet)\n",
    "    return tweet_ID, tweet, category"
   ]
  },
  {
   "cell_type": "code",
   "execution_count": 8,
   "metadata": {},
   "outputs": [],
   "source": [
    "def tokenize(text):\n",
    "    # add hash_tag content as well\n",
    "    return re.findall(r'[#]?\\w+', text)"
   ]
  },
  {
   "cell_type": "code",
   "execution_count": 9,
   "metadata": {},
   "outputs": [],
   "source": [
    "def build_vocabs_dict(lines):\n",
    "    df = pd.DataFrame(columns=['ID', 'tweet', 'category'])\n",
    "    vocabs = set()\n",
    "    for line in lines:\n",
    "        line = line.replace('\\n', '')\n",
    "        if line:\n",
    "            _, tweet, _ = preprocess(line)\n",
    "            for t in tokenize(tweet):\n",
    "                t = t.lower()\n",
    "                if not t in stop:\n",
    "                    vocabs.add(ps.stem(t))\n",
    "    print(len(vocabs))\n",
    "    vocabs = sorted(list(vocabs))\n",
    "    dic = dict()\n",
    "    dic_reverse = dict()\n",
    "    for i in range(len(vocabs)):\n",
    "        dic[vocabs[i]] = i\n",
    "        dic_reverse[i] = vocabs[i]\n",
    "    return dic, dic_reverse"
   ]
  },
  {
   "cell_type": "code",
   "execution_count": 10,
   "metadata": {},
   "outputs": [
    {
     "name": "stdout",
     "output_type": "stream",
     "text": [
      "9570\n"
     ]
    }
   ],
   "source": [
    "feats_dict, feats_dict_reverse = build_vocabs_dict(lines)\n",
    "# feats_dict['<UNK>'] = len(feats_dict)\n",
    "feats_dict['#'] = len(feats_dict)"
   ]
  },
  {
   "cell_type": "code",
   "execution_count": 11,
   "metadata": {},
   "outputs": [
    {
     "data": {
      "text/plain": [
       "{'Autos & Vehicles': '1',\n",
       " 'Comedy': '2',\n",
       " 'Education': '3',\n",
       " 'Entertainment': '4',\n",
       " 'Film & Animation': '5',\n",
       " 'Gaming': '6',\n",
       " 'Howto & Style': '7',\n",
       " 'Music': '8',\n",
       " 'News & Politics': '9',\n",
       " 'Nonprofits & Activism': '10',\n",
       " 'Pets & Animals': '11',\n",
       " 'Science & Technology': '12',\n",
       " 'Sports': '13',\n",
       " 'Travel & Events': '14'}"
      ]
     },
     "execution_count": 11,
     "metadata": {},
     "output_type": "execute_result"
    }
   ],
   "source": [
    "with open('tweets/classIDs.txt', 'r', encoding='utf-8-sig') as f:\n",
    "    raw_IDs = f.readlines()\n",
    "\n",
    "class_IDs = dict()\n",
    "for raw_ID in raw_IDs:\n",
    "    raw_ID = raw_ID.replace('\\n', '')\n",
    "    _class, _id = tuple(raw_ID.split('\\t'))\n",
    "    class_IDs[_class] = _id\n",
    "\n",
    "class_IDs"
   ]
  },
  {
   "cell_type": "code",
   "execution_count": 12,
   "metadata": {
    "scrolled": true
   },
   "outputs": [
    {
     "data": {
      "text/plain": [
       "'12 4358:1 5195:1 5396:1 5637:1 5674:1 5701:1 5814:1 6498:1 6574:1 7426:1 7992:1 8399:1 #45189568820570931'"
      ]
     },
     "execution_count": 12,
     "metadata": {},
     "output_type": "execute_result"
    }
   ],
   "source": [
    "def vectorize(line, vocabs, classes, vocabs_reverse):\n",
    "    \n",
    "    tweet_ID, tweet, category = preprocess(line)\n",
    "    tokens = tokenize(tweet)\n",
    "    class_id = classes[category]\n",
    "    feats = []\n",
    "    for tok in tokens:\n",
    "        \n",
    "        # apply stemming and stopping\n",
    "        tok = tok.lower()\n",
    "        if tok in stop:\n",
    "            continue\n",
    "        tok = ps.stem(tok)\n",
    "            \n",
    "        if vocabs.get(tok):\n",
    "            feats.append(vocabs[tok])\n",
    "        else:\n",
    "            # feats.append(vocabs['<UNK>'])\n",
    "            pass\n",
    "    result = str(class_id) + ' ' \n",
    "    # preserve word count\n",
    "    for feat, count in Counter(sorted(feats)).items():\n",
    "        if '#' in vocabs_reverse[feat]:\n",
    "            # print(vocabs_reverse[feat])\n",
    "            result += str(feat) + ':' + str(count + 1.0) + ' '\n",
    "        else:\n",
    "            result += str(feat) + ':' + str(1) + ' ' \n",
    "        \n",
    "    # add presenece of hash_tag\n",
    "    if '$HASHTAG$' in p.tokenize(tweet):\n",
    "        count = len(re.findall('$HASHTAG$', tweet))\n",
    "        result += str(vocabs['#']) + ':' + str(count) + ' '\n",
    "        \n",
    "    result += '#' + str(tweet_ID)\n",
    "    return result\n",
    "\n",
    "vectorize(lines[100].replace('\\n', ''), feats_dict, class_IDs, feats_dict_reverse)"
   ]
  },
  {
   "cell_type": "code",
   "execution_count": 13,
   "metadata": {},
   "outputs": [],
   "source": [
    "def generate_vectorized_data(lines, vocabs, classes, vocabs_reverse, split='train'):\n",
    "    with open('feats.' + split, 'w+') as f:\n",
    "        for line in lines:\n",
    "            line = line.replace('\\n', '')\n",
    "            if line:\n",
    "                f.write(vectorize(line, vocabs, classes, vocabs_reverse) + '\\n')"
   ]
  },
  {
   "cell_type": "code",
   "execution_count": 14,
   "metadata": {},
   "outputs": [],
   "source": [
    "generate_vectorized_data(lines, feats_dict, class_IDs, feats_dict_reverse)\n",
    "generate_vectorized_data(lines_test, feats_dict, class_IDs, feats_dict_reverse, split='test')"
   ]
  }
 ],
 "metadata": {
  "kernelspec": {
   "display_name": "Python 3",
   "language": "python",
   "name": "python3"
  },
  "language_info": {
   "codemirror_mode": {
    "name": "ipython",
    "version": 3
   },
   "file_extension": ".py",
   "mimetype": "text/x-python",
   "name": "python",
   "nbconvert_exporter": "python",
   "pygments_lexer": "ipython3",
   "version": "3.6.8"
  }
 },
 "nbformat": 4,
 "nbformat_minor": 2
}
